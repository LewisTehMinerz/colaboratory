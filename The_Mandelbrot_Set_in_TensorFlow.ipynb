{
  "nbformat": 4,
  "nbformat_minor": 0,
  "metadata": {
    "colab": {
      "name": "The Mandelbrot Set in TensorFlow.ipynb",
      "provenance": [],
      "collapsed_sections": [],
      "authorship_tag": "ABX9TyNM+IjGV8yORIQnOB5NeKte"
    },
    "kernelspec": {
      "name": "python3",
      "display_name": "Python 3"
    }
  },
  "cells": [
    {
      "cell_type": "markdown",
      "metadata": {
        "id": "d_817oIRIFeL",
        "colab_type": "text"
      },
      "source": [
        "# The Mandelbrot Set in TensorFlow\n",
        "*from [DZone](https://dzone.com/articles/mandelbrot-set-in-tensorflow), converted into a notebook. This example uses TensorFlow 1.15.*\n",
        "\n",
        "Please run the following prep cell, this is simply because Colaboratory does not have Tensorflow 1.15 as default. This will take a while."
      ]
    },
    {
      "cell_type": "code",
      "metadata": {
        "id": "MNZEg1uoHGdF",
        "colab_type": "code",
        "colab": {}
      },
      "source": [
        "# Prep the environment\n",
        "import tensorflow as tf\n",
        "\n",
        "if tf.__version__ != '1.15.0':\n",
        "  import os\n",
        "  %pip install tensorflow==1.15\n",
        "  os.kill(os.getpid(), 9) # force restart colab\n",
        "\n",
        "print('Good to go!')"
      ],
      "execution_count": null,
      "outputs": []
    },
    {
      "cell_type": "markdown",
      "metadata": {
        "id": "61fIHn48HQ4R",
        "colab_type": "text"
      },
      "source": [
        "## What is the Mandelbrot Set?\n",
        "According to Wikipedia, \"The Mandelbrot set is a famous example of a fractal in mathematics. The Mandelbrot set is important for chaos theory. The edging of the set shows a self-similarity, which is not perfect because it has deformations. The Mandelbrot set can be explained with the equation zn+1 = zn2 + c. In that equation, c and z are complex numbers, and n is zero or a positive integer (natural number). Starting with z0=0, c is in the Mandelbrot set if the absolute value of zn never becomes larger than a certain number (that number depends on c) no matter how large n gets.\"\n",
        "\n",
        "![Mandelbrot Example](https://d2h0cx97tjks2p.cloudfront.net/blogs/wp-content/uploads/sites/2/2018/05/images-1-1.jpg)\n",
        "\n",
        "Visualizing the set has nothing to do with machine learning. It can be thought of as another TensorFlow example for mathematics. So, let’s learn how can we compute the Mandelbrot set in TensorFlow.\n",
        "\n",
        "## Setup For Mandelbrot Set in TensorFlow\n",
        "For the Mandelbrot set in TensorFlow, you'll need a few imports to get started.\n"
      ]
    },
    {
      "cell_type": "code",
      "metadata": {
        "id": "csedIMSh_4Pv",
        "colab_type": "code",
        "colab": {}
      },
      "source": [
        "# Import libraries for simulation\n",
        "import tensorflow as tf\n",
        "import numpy as np\n",
        "# Imports for visualization\n",
        "import PIL.Image\n",
        "from io import BytesIO\n",
        "from IPython.display import Image, display"
      ],
      "execution_count": null,
      "outputs": []
    },
    {
      "cell_type": "markdown",
      "metadata": {
        "id": "MSoNAyGhIP4Z",
        "colab_type": "text"
      },
      "source": [
        "Now, define a function to actually display the image once you have iteration counts."
      ]
    },
    {
      "cell_type": "code",
      "metadata": {
        "id": "3qZPZc09IQ1y",
        "colab_type": "code",
        "colab": {}
      },
      "source": [
        "def DisplayFractal(a, fmt='jpeg'):\n",
        "  \"\"\"Display an array of iteration counts as a\n",
        "     colorful picture of a fractal.\"\"\"\n",
        "  a_cyclic = (6.28*a/20.0).reshape(list(a.shape)+[1])\n",
        "  img = np.concatenate([10+20*np.cos(a_cyclic),\n",
        "                        30+50*np.sin(a_cyclic),\n",
        "                        155-80*np.cos(a_cyclic)], 2)\n",
        "  img[a==a.max()] = 0\n",
        "  a = img\n",
        "  a = np.uint8(np.clip(a, 0, 255))\n",
        "  f = BytesIO()\n",
        "  PIL.Image.fromarray(a).save(f, fmt)\n",
        "  display(Image(data=f.getvalue()))"
      ],
      "execution_count": null,
      "outputs": []
    },
    {
      "cell_type": "markdown",
      "metadata": {
        "id": "2XW7wc7CITHo",
        "colab_type": "text"
      },
      "source": [
        "## Session and Variable Initialization in the Mandelbrot Set\n",
        "Here, an interactive session is used, but a regular session would work as well.\n",
        "\n",
        "*Notebook author's note, this cell will throw a warning if you run it multiple times. It should be okay, however I recommend restarting the runtime if you absolutely need to run this cell again.*"
      ]
    },
    {
      "cell_type": "code",
      "metadata": {
        "id": "LVFnjuS2IVWf",
        "colab_type": "code",
        "colab": {}
      },
      "source": [
        "sess = tf.InteractiveSession()"
      ],
      "execution_count": null,
      "outputs": []
    },
    {
      "cell_type": "markdown",
      "metadata": {
        "id": "jKj7utujIWuY",
        "colab_type": "text"
      },
      "source": [
        "Introducing NumPy with Tensorflow:"
      ]
    },
    {
      "cell_type": "code",
      "metadata": {
        "id": "sCKx1GJPIXqH",
        "colab_type": "code",
        "colab": {}
      },
      "source": [
        "# Use NumPy to create a 2D array of complex numbers\n",
        "Y, X = np.mgrid[-1.3:1.3:0.005, -2:1:0.005]\n",
        "Z = X+1j*Y"
      ],
      "execution_count": null,
      "outputs": []
    },
    {
      "cell_type": "markdown",
      "metadata": {
        "id": "fi1BPgi2IYoD",
        "colab_type": "text"
      },
      "source": [
        "Initializing TensorFlow tensors."
      ]
    },
    {
      "cell_type": "code",
      "metadata": {
        "id": "r2kqCk1QIZh-",
        "colab_type": "code",
        "colab": {}
      },
      "source": [
        "xs = tf.constant(Z.astype(np.complex64))\n",
        "zs = tf.Variable(xs)\n",
        "ns = tf.Variable(tf.zeros_like(xs, tf.float32))"
      ],
      "execution_count": null,
      "outputs": []
    },
    {
      "cell_type": "markdown",
      "metadata": {
        "id": "fRX6Du7tIa-d",
        "colab_type": "text"
      },
      "source": [
        "Now, as you are already aware, TensorFlow requires you to explicitly declare variables before using them."
      ]
    },
    {
      "cell_type": "code",
      "metadata": {
        "id": "-fSP0MiVIcm7",
        "colab_type": "code",
        "colab": {}
      },
      "source": [
        "tf.global_variables_initializer().run()"
      ],
      "execution_count": null,
      "outputs": []
    },
    {
      "cell_type": "markdown",
      "metadata": {
        "id": "dkdqGrShIePC",
        "colab_type": "text"
      },
      "source": [
        "## Running Computation — TensorFlow Mandelbrot Set\n",
        "Now, we specify more of the computation for the Mandelbrot set in TensorFlow."
      ]
    },
    {
      "cell_type": "code",
      "metadata": {
        "id": "h8p8Bj78Ifs6",
        "colab_type": "code",
        "colab": {}
      },
      "source": [
        "# Compute the new values of z: z^2 + x\n",
        "zs_ = zs*zs + xs\n",
        "# Have we diverged with this new value?\n",
        "not_diverged = tf.abs(zs_) < 4\n",
        "# Operation to update the zs and the iteration count.\n",
        "#\n",
        "# Note: We keep computing zs after they diverge! This\n",
        "#       is very wasteful! There are better, if a little\n",
        "#       less simple, ways to do this.\n",
        "#\n",
        "step = tf.group(\n",
        "  zs.assign(zs_),\n",
        "  ns.assign_add(tf.cast(not_diverged, tf.float32))\n",
        "  )"
      ],
      "execution_count": null,
      "outputs": []
    },
    {
      "cell_type": "markdown",
      "metadata": {
        "id": "rfC4k0qUIhvy",
        "colab_type": "text"
      },
      "source": [
        "and we run it for a couple hundred iterations:"
      ]
    },
    {
      "cell_type": "code",
      "metadata": {
        "id": "eDyx_WvOIjiG",
        "colab_type": "code",
        "cellView": "both",
        "colab": {}
      },
      "source": [
        "step_count = 200 #@param {type:\"number\"}\n",
        "for i in range(step_count): step.run()"
      ],
      "execution_count": null,
      "outputs": []
    },
    {
      "cell_type": "markdown",
      "metadata": {
        "id": "oPzize39Ikgs",
        "colab_type": "text"
      },
      "source": [
        "Then, displaying the result using:"
      ]
    },
    {
      "cell_type": "code",
      "metadata": {
        "id": "6KiunEWiIla7",
        "colab_type": "code",
        "colab": {}
      },
      "source": [
        "DisplayFractal(ns.eval())"
      ],
      "execution_count": null,
      "outputs": []
    }
  ]
}